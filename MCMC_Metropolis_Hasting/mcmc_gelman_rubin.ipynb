{
  "cells": [
    {
      "cell_type": "markdown",
      "id": "cd1dcc73",
      "metadata": {
        "id": "cd1dcc73"
      },
      "source": [
        "$\\textbf{NOTE: Please run this notebook in jupyter notebook!!}$"
      ]
    },
    {
      "cell_type": "markdown",
      "id": "b8863091",
      "metadata": {
        "id": "b8863091"
      },
      "source": [
        "## $\\text{Importing Necessary Libraries}$"
      ]
    },
    {
      "cell_type": "code",
      "execution_count": null,
      "id": "52882e74",
      "metadata": {
        "ExecuteTime": {
          "end_time": "2023-04-16T18:37:57.610877Z",
          "start_time": "2023-04-16T18:37:57.591261Z"
        },
        "id": "52882e74"
      },
      "outputs": [],
      "source": [
        "import numpy as np\n",
        "import matplotlib\n",
        "import matplotlib.pyplot as plt\n",
        "from matplotlib.animation import FuncAnimation\n",
        "import seaborn as sns\n",
        "import warnings\n",
        "\n",
        "%matplotlib inline\n",
        "warnings.filterwarnings('ignore')\n",
        "import matplotlib as mpl\n",
        "mpl.rcParams['font.family'] = 'serif'"
      ]
    },
    {
      "cell_type": "markdown",
      "id": "ea5c1ff1",
      "metadata": {
        "heading_collapsed": true,
        "id": "ea5c1ff1"
      },
      "source": [
        "## $\\text{Defining All Functions Below}$"
      ]
    },
    {
      "cell_type": "code",
      "execution_count": null,
      "id": "7d0e2dc8",
      "metadata": {
        "ExecuteTime": {
          "end_time": "2023-04-16T10:47:13.654787Z",
          "start_time": "2023-04-16T10:47:13.654773Z"
        },
        "hidden": true,
        "id": "7d0e2dc8"
      },
      "outputs": [],
      "source": [
        "#Theoretical Formulas are first defined -----------------------------\n",
        "\n",
        "def s(omega_m):\n",
        "    return ((1-omega_m)/omega_m)**(1/3)\n",
        "\n",
        "def eta(a,omega_m):\n",
        "    term_1 = (1/a**(4)) - (0.1540*s(omega_m)/(a**(3))) + (0.4304*(s(omega_m)**2)/(a**(2)))\n",
        "    term_2 = (0.19097*(s(omega_m)**3)/(a**(1))) + (0.066941*(s(omega_m)**4))\n",
        "\n",
        "    return 2*np.sqrt((s(omega_m)**3) + 1)*((term_1 + term_2)**(-1/8))\n",
        "\n",
        "## Luminosity Distance -----------------------------\n",
        "\n",
        "def lum_dist(c,h,z,omega_m):\n",
        "    term_1 = eta(1,omega_m)\n",
        "    term_2 = eta((1/(1+z)),omega_m)\n",
        "    H0 = 100*h\n",
        "\n",
        "    return (c*(1+z)/H0)*(term_1 - term_2)\n",
        "\n",
        "## Distance Modulus -----------------------------\n",
        "\n",
        "def dist_mod(c,h,z,omega_m):\n",
        "    mu = 25 - (5*np.log10(h)) + (5*np.log10(lum_dist(c,1,z,omega_m)))\n",
        "    return mu\n",
        "\n",
        "# Likelihood is now defined! This is actually the \"Log Likelihood\" ------------------\n",
        "def likelihood(c,h,z,omega_m,mu_obs,cov_inv):\n",
        "    expo_val = 0\n",
        "\n",
        "    if h <= 0.0 or omega_m <= 0.0 or h >= 1.0 or omega_m >= 1.0:\n",
        "        return -np.inf\n",
        "    else:\n",
        "        mu_theo = dist_mod(c,h,z,omega_m)\n",
        "\n",
        "        for i in range(len(z_vals)):\n",
        "            for j in range(len(z_vals)):\n",
        "                expo_val += (mu_obs[i]-mu_theo[i])*cov_inv[i,j]*(mu_obs[j]-mu_theo[j])\n",
        "\n",
        "        return -0.5*expo_val\n",
        "\n",
        "\n",
        "# Markov Chain Monte Carlo - Metropolis Hastings Algorithm is defined below ---------\n",
        "\n",
        "def mcmh(init_h,init_o,sigma,n_steps,c,z_vals,mu_vals_obs,covar_inv,likelihood):\n",
        "    burn_in = int(0.1*n_steps)\n",
        "\n",
        "    h_vals = np.zeros(n_steps)\n",
        "    omega_vals = np.zeros(n_steps)\n",
        "\n",
        "    h_vals[0] = init_h\n",
        "    omega_vals[0] = init_o\n",
        "    n_accept = 0\n",
        "\n",
        "    for i in range(1,n_steps):\n",
        "        current_h = h_vals[i-1]\n",
        "        proposed_h = np.random.normal(current_h,sigma)\n",
        "\n",
        "        current_omega = omega_vals[i-1]\n",
        "        proposed_omega = np.random.normal(current_omega,sigma)\n",
        "\n",
        "        num = likelihood(c,proposed_h,z_vals,proposed_omega,\n",
        "                         mu_vals_obs,covar_inv)*np.random.normal(0.738,0.024)\n",
        "        den = likelihood(c,current_h,z_vals,current_omega,\n",
        "                         mu_vals_obs,covar_inv)*np.random.normal(0.738,0.024)\n",
        "\n",
        "        if num > den:\n",
        "            h_vals[i] = proposed_h\n",
        "            omega_vals[i] = proposed_omega\n",
        "            n_accept += 1\n",
        "        else:\n",
        "            prob_accept = min(1,np.exp(-den+num))\n",
        "            alpha = np.random.uniform()\n",
        "\n",
        "            if alpha <= prob_accept: #Accept the probability\n",
        "                h_vals[i] = proposed_h\n",
        "                omega_vals[i] = proposed_omega\n",
        "                n_accept += 1\n",
        "            elif alpha > prob_accept:\n",
        "                h_vals[i] = current_h\n",
        "                omega_vals[i] = current_omega\n",
        "\n",
        "    final_omega_vals = omega_vals#[burn_in:]\n",
        "    final_h_vals = h_vals#[burn_in:]\n",
        "\n",
        "    return final_omega_vals,final_h_vals, n_accept/n_steps"
      ]
    },
    {
      "cell_type": "markdown",
      "id": "9a6bb811",
      "metadata": {
        "heading_collapsed": true,
        "id": "9a6bb811"
      },
      "source": [
        "## $\\textit{Part 1: Importance Sampling} $"
      ]
    },
    {
      "cell_type": "code",
      "execution_count": null,
      "id": "cdd4fa71",
      "metadata": {
        "ExecuteTime": {
          "end_time": "2023-04-16T10:47:27.138356Z",
          "start_time": "2023-04-16T10:47:21.900426Z"
        },
        "hidden": true,
        "id": "cdd4fa71"
      },
      "outputs": [],
      "source": [
        "data = np.loadtxt(\"file1.txt\")\n",
        "covar = np.loadtxt(\"file_cov.txt\")\n",
        "\n",
        "z_vals = data[:,0]\n",
        "mu_vals_obs = data[:,1]\n",
        "covar = covar.reshape(31,31)\n",
        "covar_inv = np.linalg.inv(covar)\n",
        "\n",
        "n_steps = 1000\n",
        "c = 3*(10**5)\n",
        "sigma = 0.01\n",
        "\n",
        "h_init = [0.05,0.05,0.95,0.95]#np.random.uniform(size=4)#.normal(0.738,0.024,size=4)\n",
        "o_init = [0.05,0.95,0.05,0.95]#np.random.uniform(size=4)\n",
        "\n",
        "omega_vals_1,h_vals_1,ar_1 = mcmh(h_init[0],o_init[0],sigma,n_steps,\n",
        "                                  c,z_vals,mu_vals_obs,covar_inv,likelihood)\n",
        "omega_vals_2,h_vals_2,ar_2 = mcmh(h_init[1],o_init[1],sigma,n_steps,\n",
        "                                  c,z_vals,mu_vals_obs,covar_inv,likelihood)\n",
        "omega_vals_3,h_vals_3,ar_3 = mcmh(h_init[2],o_init[2],sigma,n_steps,\n",
        "                                  c,z_vals,mu_vals_obs,covar_inv,likelihood)\n",
        "omega_vals_4,h_vals_4,ar_4 = mcmh(h_init[3],o_init[3],sigma,n_steps,\n",
        "                                  c,z_vals,mu_vals_obs,covar_inv,likelihood)"
      ]
    },
    {
      "cell_type": "markdown",
      "id": "dcf04b4e",
      "metadata": {
        "heading_collapsed": true,
        "hidden": true,
        "id": "dcf04b4e"
      },
      "source": [
        "### $\\text{Plotting and Animating the data}$"
      ]
    },
    {
      "cell_type": "code",
      "execution_count": null,
      "id": "2aabc0d9",
      "metadata": {
        "ExecuteTime": {
          "end_time": "2023-04-16T10:49:16.487962Z",
          "start_time": "2023-04-16T10:49:16.487944Z"
        },
        "hidden": true,
        "id": "2aabc0d9"
      },
      "outputs": [],
      "source": [
        "x1_data = omega_vals_1\n",
        "y1_data = h_vals_1\n",
        "\n",
        "x2_data = omega_vals_2\n",
        "y2_data = h_vals_2\n",
        "\n",
        "x3_data = omega_vals_3\n",
        "y3_data = h_vals_3\n",
        "\n",
        "x4_data = omega_vals_4\n",
        "y4_data = h_vals_4\n",
        "\n",
        "fig, ax = plt.subplots(figsize=(14,8),dpi=120)\n",
        "\n",
        "ax.plot(x1_data[0], y1_data[0], 'bo',alpha=.5, ms=4,\n",
        "        label=\"RW 1 - ($h_0=0.95,\\Omega_{m0}=0.05$) \")\n",
        "\n",
        "ax.plot(x2_data[0], y2_data[0], 'ro',alpha=.5, ms=4,\n",
        "        label=\"RW 2 - ($h_0=0.05,\\Omega_{m0}=0.05$) \")\n",
        "\n",
        "ax.plot(x3_data[0], y3_data[0], 'go',alpha=.5, ms=4,\n",
        "        label=\"RW 3 - ($h_0=0.05,\\Omega_{m0}=0.95$) \")\n",
        "\n",
        "ax.plot(x4_data[0], y4_data[0],'o',color='orange',alpha=.5, ms=4,\n",
        "        label=\"RW 4 - ($h_0=0.95,\\Omega_{m0}=0.95$) \")\n",
        "\n",
        "ax.set_xlabel(\"$h$ Values $\\longrightarrow$\",size=13,alpha=0.85)\n",
        "ax.set_ylabel(\"$\\Omega_m$ Values $\\longrightarrow$\",size=13,alpha=0.85)\n",
        "\n",
        "ax.set_title(\"Parameter Estimation of $h$ and $\\Omega_m$\",size=18,alpha=0.9)\n",
        "\n",
        "ax.set_xlim(0,1)\n",
        "ax.set_ylim(0,1)\n",
        "\n",
        "plt.minorticks_on()\n",
        "plt.legend(fontsize=10,facecolor='lightcyan')\n",
        "plt.pause(2)\n",
        "\n",
        "for i in range(1, len(x1_data)):\n",
        "    ax.plot(x1_data[i], y1_data[i], 'bo',alpha=.5, ms=3,\n",
        "            label=\"RW 1 - ($h_0=0.95,\\Omega_{m0}=0.05$) \")\n",
        "\n",
        "    ax.plot(x2_data[i], y2_data[i], 'ro',alpha=.5, ms=3,\n",
        "            label=\"RW 2 - ($h_0=0.05,\\Omega_{m0}=0.05$) \")\n",
        "\n",
        "    ax.plot(x3_data[i], y3_data[i], 'go',alpha=.5, ms=3,\n",
        "            label=\"RW 3 - ($h_0=0.05,\\Omega_{m0}=0.95$) \")\n",
        "\n",
        "    ax.plot(x4_data[i], y4_data[i],'o',color='orange',alpha=.5, ms=3,\n",
        "            label=\"RW 4 - ($h_0=0.95,\\Omega_{m0}=0.95$) \")\n",
        "\n",
        "    ax.plot([x1_data[i-1], x1_data[i]], [y1_data[i-1], y1_data[i]],\n",
        "            'b-',lw=1.5,alpha=.5)\n",
        "\n",
        "    ax.plot([x2_data[i-1], x2_data[i]], [y2_data[i-1], y2_data[i]],\n",
        "            'r-',lw=1.5,alpha=.5)\n",
        "\n",
        "    ax.plot([x3_data[i-1], x3_data[i]], [y3_data[i-1], y3_data[i]],\n",
        "            'g-',lw=1.5,alpha=.5)\n",
        "\n",
        "    ax.plot([x4_data[i-1], x4_data[i]], [y4_data[i-1], y4_data[i]],\n",
        "            '-',color='orange',lw=1.5,alpha=.5)\n",
        "\n",
        "    if i == int(0.5*len(x1_data)):\n",
        "        plt.axvline(x=0.3,color='k',ls='--',lw=1.5,alpha=0.5)\n",
        "        plt.axhline(y=0.7,color='k',ls='--',lw=1.5,alpha=0.5)\n",
        "\n",
        "    plt.pause(0.001) #Uncomment this line to see animated plots\n",
        "\n",
        "# sns.kdeplot(x1_data, y1_data, fill=True,\n",
        "#             common_norm=False, palette=\"crest\",alpha=0.35)\n",
        "\n",
        "# sns.kdeplot(x2_data, y2_data, fill=True,\n",
        "#             common_norm=False, palette=\"crest\",alpha=0.35)\n",
        "\n",
        "# sns.kdeplot(x3_data, y3_data, fill=True,\n",
        "#             common_norm=False, palette=\"crest\",alpha=0.35)\n",
        "\n",
        "# sns.kdeplot(x4_data, y4_data, fill=True,\n",
        "#             common_norm=False, palette=\"crest\",alpha=0.35)"
      ]
    },
    {
      "cell_type": "markdown",
      "id": "05226b48",
      "metadata": {
        "heading_collapsed": true,
        "hidden": true,
        "id": "05226b48"
      },
      "source": [
        "### $\\text{Plotting Histograms of } h \\text{ and } \\Omega_m$"
      ]
    },
    {
      "cell_type": "code",
      "execution_count": null,
      "id": "b863c01c",
      "metadata": {
        "hidden": true,
        "id": "b863c01c",
        "outputId": "d5c6d764-2357-4096-c9a3-adc9df0251ef"
      },
      "outputs": [
        {
          "data": {
            "text/plain": [
              "<matplotlib.legend.Legend at 0x7fc43b04e430>"
            ]
          },
          "execution_count": 42,
          "metadata": {},
          "output_type": "execute_result"
        }
      ],
      "source": [
        "def gaussian(x,mean,sigma):\n",
        "    value = (1/np.sqrt(2*np.pi*(sigma**2)))*np.exp(-((x-mean)**2)/(2*(sigma**2)))\n",
        "    return value\n",
        "\n",
        "burn_in = int(0.30*n_steps)\n",
        "\n",
        "# H values\n",
        "\n",
        "h_vals_1_burn = h_vals_1[burn_in:]\n",
        "h_vals_2_burn = h_vals_2[burn_in:]\n",
        "h_vals_3_burn = h_vals_3[burn_in:]\n",
        "h_vals_4_burn = h_vals_4[burn_in:]\n",
        "\n",
        "mean_1_h_prior = np.mean(h_vals_1_burn)\n",
        "mean_2_h_prior = np.mean(h_vals_2_burn)\n",
        "mean_3_h_prior = np.mean(h_vals_3_burn)\n",
        "mean_4_h_prior = np.mean(h_vals_4_burn)\n",
        "\n",
        "net_mean_h_prior = np.mean([mean_1_h_prior,mean_2_h_prior,\n",
        "                            mean_3_h_prior,mean_4_h_prior])\n",
        "\n",
        "std_1_h_prior = np.std(h_vals_1_burn)\n",
        "std_2_h_prior = np.std(h_vals_2_burn)\n",
        "std_3_h_prior = np.std(h_vals_3_burn)\n",
        "std_4_h_prior = np.std(h_vals_4_burn)\n",
        "\n",
        "#Histogram of h\n",
        "\n",
        "plt.figure(figsize=(14,8),dpi=120)\n",
        "\n",
        "plt.hist(h_vals_1_burn,bins=50,color='blue',alpha=0.7,label='Random Walker 1')\n",
        "plt.hist(h_vals_2_burn,bins=50,color='red',alpha=0.6,label='Random Walker 2')\n",
        "plt.hist(h_vals_3_burn,bins=50,color='green',alpha=0.5,label='Random Walker 3')\n",
        "plt.hist(h_vals_4_burn,bins=50,color='orange',alpha=0.4,label='Random Walker 4')\n",
        "\n",
        "plt.axvline(x=net_mean_h,color='k',ls='--',alpha=0.5)\n",
        "\n",
        "plt.xlabel(\"$h$ Values $\\longrightarrow$\",size=13,alpha=0.85)\n",
        "plt.ylabel(\"Frequency $\\longrightarrow$\",size=13,alpha=0.85)\n",
        "plt.title(\"Distribution of $h$ values\",size=18,alpha=0.9)\n",
        "\n",
        "plt.xticks(size=13,alpha=0.5)\n",
        "plt.yticks(size=13,alpha=0.5)\n",
        "plt.minorticks_on()\n",
        "\n",
        "plt.legend(fontsize=12,facecolor='lightcyan')\n",
        "#plt.savefig(\"histo_h.pdf\",format='pdf')\n",
        "\n",
        "#OMEGA_M\n",
        "\n",
        "omega_vals_1_burn = omega_vals_1[burn_in:]\n",
        "omega_vals_2_burn = omega_vals_2[burn_in:]\n",
        "omega_vals_3_burn = omega_vals_3[burn_in:]\n",
        "omega_vals_4_burn = omega_vals_4[burn_in:]\n",
        "\n",
        "mean_1_omega_prior = np.mean(omega_vals_1_burn)\n",
        "mean_2_omega_prior = np.mean(omega_vals_2_burn)\n",
        "mean_3_omega_prior = np.mean(omega_vals_3_burn)\n",
        "mean_4_omega_prior = np.mean(omega_vals_4_burn)\n",
        "\n",
        "net_mean_omega_prior = np.mean([mean_1_omega_prior,mean_2_omega_prior,\n",
        "                          mean_3_omega_prior,mean_4_omega_prior])\n",
        "\n",
        "std_1_omega_prior = np.std(omega_vals_1_burn)\n",
        "std_2_omega_prior = np.std(omega_vals_2_burn)\n",
        "std_3_omega_prior = np.std(omega_vals_3_burn)\n",
        "std_4_omega_prior = np.std(omega_vals_4_burn)\n",
        "\n",
        "#Histogram of Omega\n",
        "plt.figure(figsize=(14,8),dpi=120)\n",
        "\n",
        "plt.hist(omega_vals_1_burn,bins=50,color='blue',alpha=0.7,label='Random Walker 1')\n",
        "plt.hist(omega_vals_2_burn,bins=50,color='red',alpha=0.6,label='Random Walker 2')\n",
        "plt.hist(omega_vals_3_burn,bins=50,color='green',alpha=0.5,label='Random Walker 3')\n",
        "plt.hist(omega_vals_4_burn,bins=50,color='orange',alpha=0.4,label='Random Walker 4')\n",
        "\n",
        "plt.axvline(x=net_mean_omega,color='k',ls='--',alpha=0.5)\n",
        "\n",
        "plt.xlabel(\"$\\Omega_m$ Values $\\longrightarrow$\",size=13,alpha=0.85)\n",
        "plt.ylabel(\"Frequency $\\longrightarrow$\",size=13,alpha=0.85)\n",
        "plt.title(\"Distribution of $\\Omega_m$ values\",size=18,alpha=0.9)\n",
        "\n",
        "plt.xticks(size=13,alpha=0.5)\n",
        "plt.yticks(size=13,alpha=0.5)\n",
        "plt.minorticks_on()\n",
        "\n",
        "plt.legend(fontsize=12,facecolor='lightcyan')\n",
        "#plt.savefig(\"histo_omega.pdf\",format='pdf')"
      ]
    },
    {
      "cell_type": "code",
      "execution_count": null,
      "id": "758facbf",
      "metadata": {
        "hidden": true,
        "id": "758facbf",
        "outputId": "e0ae861a-7611-40a8-f855-a737cc2696eb"
      },
      "outputs": [
        {
          "name": "stdout",
          "output_type": "stream",
          "text": [
            "--------------------------------------\n",
            "Mean 'h' and 'Omega' --- without Prior\n",
            "--------------------------------------\n",
            "'h' ---> 0.7009,0.6997,0.6981,0.7014\n",
            "'Omega' ---> 0.3126,0.3199,0.3338,0.3100\n",
            "Net Mean \"h\" ---> 0.7000\n",
            "Net Mean \"Omega\"---> 0.3191\n",
            "\n",
            "\n",
            "--------------------------------------\n",
            "Mean 'h' and 'Omega' --- with Prior\n",
            "--------------------------------------\n",
            "'h' ---> 0.7042,0.7020,0.7031,0.7009\n",
            "'Omega' ---> 0.2799,0.3010,0.2968,0.3078\n",
            "Net Mean \"h\" ---> 0.7026\n",
            "Net Mean \"Omega\"---> 0.2964\n"
          ]
        }
      ],
      "source": [
        "net_mean_h_wp = np.mean([mean_1_h,mean_2_h,mean_3_h,mean_4_h])\n",
        "net_mean_h_p = np.mean([mean_1_h_prior,mean_2_h_prior,mean_3_h_prior,mean_4_h_prior])\n",
        "\n",
        "net_mean_omega_wp = np.mean([mean_1_omega,mean_2_omega,mean_3_omega,mean_4_omega])\n",
        "net_mean_omega_p = np.mean([mean_1_omega_prior,mean_2_omega_prior,\n",
        "                           mean_3_omega_prior,mean_4_omega_prior])\n",
        "print(\"--------------------------------------\")\n",
        "print(\"Mean 'h' and 'Omega' --- without Prior\")\n",
        "print(\"--------------------------------------\")\n",
        "print(\"'h' ---> %.4f,%.4f,%.4f,%.4f\"%(mean_1_h,mean_2_h,mean_3_h,mean_4_h))\n",
        "print(\"'Omega' ---> %.4f,%.4f,%.4f,%.4f\"%(mean_1_omega,mean_2_omega,mean_3_omega,mean_4_omega))\n",
        "print('Net Mean \"h\" ---> %.4f' %net_mean_h_wp)\n",
        "print('Net Mean \"Omega\"---> %.4f' %net_mean_omega_wp)\n",
        "print('\\n')\n",
        "print(\"--------------------------------------\")\n",
        "print(\"Mean 'h' and 'Omega' --- with Prior\")\n",
        "print(\"--------------------------------------\")\n",
        "print(\"'h' ---> %.4f,%.4f,%.4f,%.4f\"%(mean_1_h_prior,mean_2_h_prior,mean_3_h_prior,mean_4_h_prior))\n",
        "print(\"'Omega' ---> %.4f,%.4f,%.4f,%.4f\"%(mean_1_omega_prior,mean_2_omega_prior,mean_3_omega_prior,mean_4_omega_prior))\n",
        "print('Net Mean \"h\" ---> %.4f' %net_mean_h_p)\n",
        "print('Net Mean \"Omega\"---> %.4f' %net_mean_omega_p)"
      ]
    },
    {
      "cell_type": "markdown",
      "id": "47e4e8f2",
      "metadata": {
        "id": "47e4e8f2"
      },
      "source": [
        "## $\\textit{Part 2: Gelman-Rubin Convergence Test}$"
      ]
    },
    {
      "cell_type": "code",
      "execution_count": null,
      "id": "b0a95945",
      "metadata": {
        "ExecuteTime": {
          "end_time": "2023-04-16T16:18:38.113935Z",
          "start_time": "2023-04-16T15:55:13.188683Z"
        },
        "id": "b0a95945"
      },
      "outputs": [],
      "source": [
        "data = np.loadtxt(\"file1.txt\")\n",
        "covar = np.loadtxt(\"file_cov.txt\")\n",
        "\n",
        "z_vals = data[:,0]\n",
        "mu_vals_obs = data[:,1]\n",
        "covar = covar.reshape(31,31)\n",
        "covar_inv = np.linalg.inv(covar)\n",
        "\n",
        "n_steps_total = np.array([2,5,10,50,100,200,250,300,500,750,1000,2000,5000])\n",
        "c = 3*(10**5)\n",
        "sigma = 0.01\n",
        "burn_in = np.array(n_steps_total*0.15,dtype='int')\n",
        "L = n_steps_total - burn_in\n",
        "\n",
        "n_chain = 100\n",
        "grs_h_vals = np.zeros(len(n_steps_total))\n",
        "grs_omega_vals = np.zeros(len(n_steps_total))\n",
        "\n",
        "for n in range(len(n_steps_total)):\n",
        "\n",
        "    chain_means_h = np.zeros(n_chain) #Chain Mean h\n",
        "    chain_means_omega = np.zeros(n_chain) #Chain Mean Omega\n",
        "\n",
        "    chain_var_h = np.zeros(n_chain) #within chain variance h\n",
        "    chain_var_omega = np.zeros(n_chain) #within chain variance omega\n",
        "\n",
        "    for i in range(n_chain):\n",
        "        h_init = np.random.uniform()\n",
        "        o_init = np.random.uniform()\n",
        "\n",
        "        omega_vals,h_vals,ar = mcmh(h_init,o_init,sigma,n_steps_total[n],\n",
        "                                    c,z_vals,mu_vals_obs,covar_inv,likelihood)\n",
        "\n",
        "        h_vals_final = h_vals[burn_in[n]:]\n",
        "        omega_vals_final = omega_vals[burn_in[n]:]\n",
        "\n",
        "        chain_means_h[i] = np.mean(h_vals_final)\n",
        "        chain_means_omega[i] = np.mean(omega_vals_final)\n",
        "\n",
        "        chain_var_h[i] = (1/(L[n]-1))*(np.sum((h_vals_final - chain_means_h[i])**2))\n",
        "        chain_var_omega[i] = (1/(L[n]-1))*(np.sum((omega_vals_final - chain_means_omega[i])**2))\n",
        "\n",
        "#         chain_means_h[i] = temp_mean_chain_h\n",
        "#         chain_means_omega[i] = temp_mean_chain_omega\n",
        "\n",
        "#         chain_var_h[i] = temp_var_chain_h\n",
        "#         chain_var_omega[i] = temp_var_chain_omega\n",
        "\n",
        "    grand_mean_h = np.mean(chain_means_h)\n",
        "    grand_mean_omega = np.mean(chain_means_omega)\n",
        "\n",
        "    #Inter-Chain Variance\n",
        "    B_h = (L[n]/(n_chain-1))*np.sum((chain_means_h - grand_mean_h)**2)\n",
        "    B_omega = (L[n]/(n_chain-1))*np.sum((chain_means_omega - grand_mean_omega)**2)\n",
        "\n",
        "    W_h = (1/n_chain)*(np.sum(chain_var_h))\n",
        "    W_omega = (1/n_chain)*(np.sum(chain_var_omega))\n",
        "\n",
        "    #Gelman-Rubin Statistic\n",
        "\n",
        "    grs_h = ((((L[n]-1)/L[n])*W_h) + (B_h/L[n]))/W_h\n",
        "    grs_omega = ((((L[n]-1)/L[n])*W_omega) + (B_omega/L[n]))/W_omega\n",
        "\n",
        "    grs_h_vals[n] = grs_h\n",
        "    grs_omega_vals[n] = grs_omega"
      ]
    },
    {
      "cell_type": "code",
      "execution_count": null,
      "id": "696252dd",
      "metadata": {
        "ExecuteTime": {
          "end_time": "2023-04-16T17:56:49.111604Z",
          "start_time": "2023-04-16T17:56:49.098119Z"
        },
        "id": "696252dd",
        "outputId": "f4afdcad-68ca-45c6-feb2-fb2caf70b8bf"
      },
      "outputs": [
        {
          "name": "stdout",
          "output_type": "stream",
          "text": [
            "[4.51035619e+03 1.17445978e+03 4.33404256e+02 2.28678265e+01\n",
            " 5.09567048e+00 2.03098709e+00 1.54941433e+00 1.39530008e+00\n",
            " 1.23820325e+00 1.15715460e+00 1.14236869e+00 1.02161056e+00\n",
            " 1.00806665e+00]\n",
            "[3.77851014e+03 1.65470719e+03 1.26594962e+03 1.95043695e+02\n",
            " 5.00974129e+01 1.34243850e+01 5.57914419e+00 3.57367935e+00\n",
            " 1.73903279e+00 1.27642109e+00 1.21016507e+00 1.05026277e+00\n",
            " 1.01890710e+00]\n"
          ]
        }
      ],
      "source": [
        "print(grs_h_vals)\n",
        "print(grs_omega_vals)"
      ]
    },
    {
      "cell_type": "code",
      "execution_count": null,
      "id": "06dbf662",
      "metadata": {
        "ExecuteTime": {
          "end_time": "2023-04-16T18:38:25.655677Z",
          "start_time": "2023-04-16T18:38:24.908542Z"
        },
        "id": "06dbf662",
        "outputId": "fbd37d82-97f3-4e9e-81a1-bade13dfd341"
      },
      "outputs": [
        {
          "data": {
            "image/png": "[encoded data removed]",
            "text/plain": [
              "<Figure size 1680x960 with 2 Axes>"
            ]
          },
          "metadata": {},
          "output_type": "display_data"
        }
      ],
      "source": [
        "fig,ax = plt.subplots(nrows=1,ncols=2,sharex=True,sharey=True,\n",
        "                      figsize=(14,8),dpi=120)\n",
        "ax1 = plt.subplot(121)\n",
        "ax2 = plt.subplot(122)\n",
        "ax1.set_facecolor('whitesmoke')\n",
        "ax1.semilogx(n_steps_total,grs_h_vals,'ro--',markerfacecolor='k',lw=2.0,ms=8)\n",
        "ax2.set_facecolor('whitesmoke')\n",
        "ax2.semilogx(n_steps_total,grs_omega_vals,'o--',color='brown',\n",
        "            markerfacecolor='darkblue',lw=2.0,ms=8)\n",
        "\n",
        "fig.suptitle(\"Gelman-Rubin Statistic\",size=22,x=0.52,y=0.965)\n",
        "fig.supylabel(\"GRS $\\longrightarrow$\",size=18,x=2.5e-2)\n",
        "\n",
        "ax1.tick_params(axis='both',size=10,width=1.3,which='major')\n",
        "ax1.tick_params(axis='both',size=6,width=0.8,which='minor')\n",
        "\n",
        "ax2.tick_params(axis='y',size=0,width=1.3,which='major')\n",
        "ax2.tick_params(axis='x',size=10,width=1.3,which='major')\n",
        "ax2.tick_params(axis='both',size=6,width=0.8,which='minor')\n",
        "\n",
        "\n",
        "ax1.set_xlabel(\"No. of Steps $\\longrightarrow$\",size=15)\n",
        "ax2.set_xlabel(\"No. of Steps $\\longrightarrow$\",size=15)\n",
        "plt.tight_layout(pad=2.5)\n",
        "ax1.grid(color='grey',lw=0.5,alpha=0.6)\n",
        "ax2.grid(color='grey',lw=0.5,alpha=0.6)"
      ]
    }
  ],
  "metadata": {
    "kernelspec": {
      "display_name": "Python 3 (ipykernel)",
      "language": "python",
      "name": "python3"
    },
    "language_info": {
      "codemirror_mode": {
        "name": "ipython",
        "version": 3
      },
      "file_extension": ".py",
      "mimetype": "text/x-python",
      "name": "python",
      "nbconvert_exporter": "python",
      "pygments_lexer": "ipython3",
      "version": "3.9.13"
    },
    "varInspector": {
      "cols": {
        "lenName": 16,
        "lenType": 16,
        "lenVar": 40
      },
      "kernels_config": {
        "python": {
          "delete_cmd_postfix": "",
          "delete_cmd_prefix": "del ",
          "library": "var_list.py",
          "varRefreshCmd": "print(var_dic_list())"
        },
        "r": {
          "delete_cmd_postfix": ") ",
          "delete_cmd_prefix": "rm(",
          "library": "var_list.r",
          "varRefreshCmd": "cat(var_dic_list()) "
        }
      },
      "types_to_exclude": [
        "module",
        "function",
        "builtin_function_or_method",
        "instance",
        "_Feature"
      ],
      "window_display": false
    },
    "colab": {
      "provenance": []
    }
  },
  "nbformat": 4,
  "nbformat_minor": 5
}