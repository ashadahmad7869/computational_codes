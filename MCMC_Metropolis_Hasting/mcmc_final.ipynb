{
 "cells": [
  {
   "cell_type": "markdown",
   "id": "b8863091",
   "metadata": {
    "heading_collapsed": true
   },
   "source": [
    "## $\\textbf{Importing Necessary Libraries}$"
   ]
  },
  {
   "cell_type": "code",
   "execution_count": 56,
   "id": "52882e74",
   "metadata": {
    "hidden": true
   },
   "outputs": [],
   "source": [
    "import numpy as np\n",
    "import matplotlib\n",
    "import matplotlib.pyplot as plt\n",
    "from matplotlib.animation import FuncAnimation\n",
    "import seaborn as sns\n",
    "import warnings\n",
    "\n",
    "#%matplotlib qt\n",
    "matplotlib.rcParams['backend'] = 'Qt5Agg'\n",
    "warnings.filterwarnings('ignore')"
   ]
  },
  {
   "cell_type": "markdown",
   "id": "ea5c1ff1",
   "metadata": {
    "heading_collapsed": true
   },
   "source": [
    "## $\\textbf{Defining All Functions Below}$"
   ]
  },
  {
   "cell_type": "code",
   "execution_count": 137,
   "id": "7d0e2dc8",
   "metadata": {
    "hidden": true
   },
   "outputs": [],
   "source": [
    "#Theoretical Formulas are first defined -----------------------------\n",
    "\n",
    "def s(omega_m):\n",
    "    return ((1-omega_m)/omega_m)**(1/3)\n",
    "\n",
    "def eta(a,omega_m):\n",
    "    term_1 = (1/a**(4)) - (0.1540*s(omega_m)/(a**(3))) + (0.4304*(s(omega_m)**2)/(a**(2)))\n",
    "    term_2 = (0.19097*(s(omega_m)**3)/(a**(1))) + (0.066941*(s(omega_m)**4))\n",
    "    \n",
    "    return 2*np.sqrt((s(omega_m)**3) + 1)*((term_1 + term_2)**(-1/8))\n",
    "\n",
    "## Luminosity Distance -----------------------------\n",
    "\n",
    "def lum_dist(c,h,z,omega_m):\n",
    "    term_1 = eta(1,omega_m)\n",
    "    term_2 = eta((1/(1+z)),omega_m)\n",
    "    H0 = 100*h\n",
    "    \n",
    "    return (c*(1+z)/H0)*(term_1 - term_2)\n",
    "\n",
    "## Distance Modulus -----------------------------\n",
    "\n",
    "def dist_mod(c,h,z,omega_m):\n",
    "    mu = 25 - (5*np.log10(h)) + (5*np.log10(lum_dist(c,1,z,omega_m)))\n",
    "    return mu\n",
    "\n",
    "# Likelihood is now defined! This is actually the \"Log Likelihood\" ------------------\n",
    "def likelihood(c,h,z,omega_m,mu_obs,cov_inv):\n",
    "    expo_val = 0\n",
    "    \n",
    "    if h <= 0.0 or omega_m <= 0.0 or h >= 1.0 or omega_m >= 1.0:\n",
    "        return -np.inf\n",
    "    else:\n",
    "        mu_theo = dist_mod(c,h,z,omega_m)\n",
    "    \n",
    "        for i in range(len(z_vals)):\n",
    "            for j in range(len(z_vals)):\n",
    "                expo_val += (mu_obs[i]-mu_theo[i])*cov_inv[i,j]*(mu_obs[j]-mu_theo[j])\n",
    "    \n",
    "        return -0.5*expo_val\n",
    "\n",
    "\n",
    "# Markov Chain Monte Carlo - Metropolis Hastings Algorithm is defined below ---------\n",
    "\n",
    "def mcmh(init_h,init_o,sigma,n_steps,c,z_vals,mu_vals_obs,covar_inv,likelihood):\n",
    "    burn_in = int(0.1*n_steps)\n",
    "    \n",
    "    h_vals = np.zeros(n_steps)\n",
    "    omega_vals = np.zeros(n_steps)\n",
    "\n",
    "    h_vals[0] = init_h\n",
    "    omega_vals[0] = init_o\n",
    "    n_accept = 0\n",
    "\n",
    "    for i in range(1,n_steps):\n",
    "        current_h = h_vals[i-1]\n",
    "        proposed_h = np.random.normal(current_h,sigma)\n",
    "\n",
    "        current_omega = omega_vals[i-1]\n",
    "        proposed_omega = np.random.normal(current_omega,sigma)\n",
    "\n",
    "        num = likelihood(c,proposed_h,z_vals,proposed_omega,mu_vals_obs,covar_inv)\n",
    "        den = likelihood(c,current_h,z_vals,current_omega,mu_vals_obs,covar_inv)\n",
    "\n",
    "        prob_accept = min(1,np.exp(-den+num))\n",
    "        alpha = np.random.rand(1)[0]\n",
    "\n",
    "        if alpha <= prob_accept: #Accept the probability\n",
    "            h_vals[i] = proposed_h\n",
    "            omega_vals[i] = proposed_omega\n",
    "            n_accept += 1\n",
    "        elif alpha > prob_accept:\n",
    "            h_vals[i] = current_h\n",
    "            omega_vals[i] = current_omega\n",
    "    \n",
    "    final_omega_vals = omega_vals#[burn_in:]\n",
    "    final_h_vals = h_vals#[burn_in:]\n",
    "    \n",
    "    return final_omega_vals,final_h_vals, n_accept/n_steps"
   ]
  },
  {
   "cell_type": "markdown",
   "id": "02a67d94",
   "metadata": {
    "heading_collapsed": true
   },
   "source": [
    "## $\\textit{Part 1: Plotting observed data}$"
   ]
  },
  {
   "cell_type": "code",
   "execution_count": 3,
   "id": "f84c2212",
   "metadata": {
    "hidden": true
   },
   "outputs": [],
   "source": [
    "c = 3*(10**5)\n",
    "\n",
    "omega_m_1 = 1.0\n",
    "omega_m_2 = 0.5\n",
    "omega_m_3 = 0.3\n",
    "\n",
    "h1 = 1.0\n",
    "h2 = 0.4\n",
    "h3 = 0.7"
   ]
  },
  {
   "cell_type": "code",
   "execution_count": 208,
   "id": "22ac4969",
   "metadata": {
    "hidden": true
   },
   "outputs": [],
   "source": [
    "data = np.loadtxt(\"file1.txt\")\n",
    "\n",
    "z_vals = data[:,0]\n",
    "z_vals_obs = data[:,0]\n",
    "mu_vals_obs = data[:,1]\n",
    "\n",
    "\n",
    "mu_vals_obs_1 = dist_mod(c,h1,z_vals,omega_m_1)\n",
    "mu_vals_obs_2 = dist_mod(c,h2,z_vals,omega_m_2)\n",
    "mu_vals_obs_3 = dist_mod(c,h3,z_vals,omega_m_3)\n",
    "\n",
    "plt.figure(figsize=(14,8),dpi=120)\n",
    "\n",
    "plt.plot(z_vals_obs,mu_vals_obs,'bo',ms=5,alpha=0.5)\n",
    "\n",
    "plt.plot(z_vals_obs,mu_vals_obs_1,ls = '--',color='orange',\n",
    "         label=\"h = %.2f and $\\Omega_m$ = %.2f\" %(h1,omega_m_1))\n",
    "\n",
    "plt.plot(z_vals_obs,mu_vals_obs_2,ls = '--',color='green',\n",
    "         label=\"h = %.2f and $\\Omega_m$ = %.2f\" %(h2,omega_m_2))\n",
    "\n",
    "plt.plot(z_vals_obs,mu_vals_obs_3,color='red',\n",
    "         label=\"h = %.2f and $\\Omega_m$ = %.2f\" %(h3,omega_m_3))\n",
    "\n",
    "plt.xlabel(\"Redshift $- z$\",size=13,alpha=0.85)\n",
    "plt.ylabel(\"Distance Modulus $- \\mu$\",size=13,alpha=0.85)\n",
    "plt.title(\"Observed Distance Modulus of Supernova Ia\",size=18,alpha=0.9)\n",
    "\n",
    "plt.xticks(size=12,alpha=0.7)\n",
    "plt.yticks(size=12,alpha=0.7)\n",
    "\n",
    "plt.minorticks_on()\n",
    "\n",
    "plt.legend(facecolor='lightcyan',loc='lower right',fontsize=15)\n",
    "plt.grid(alpha=0.4,color='grey', linestyle='--', linewidth=0.5)\n",
    "\n",
    "plt.savefig(\"dist_mod.pdf\",format='pdf')"
   ]
  },
  {
   "cell_type": "markdown",
   "id": "95aef353",
   "metadata": {
    "heading_collapsed": true
   },
   "source": [
    "## $\\textit{Part 2: Perfoming Paramter Estimation and evaluating values} $"
   ]
  },
  {
   "cell_type": "code",
   "execution_count": 30,
   "id": "c867773e",
   "metadata": {
    "hidden": true
   },
   "outputs": [
    {
     "name": "stderr",
     "output_type": "stream",
     "text": [
      "/tmp/ipykernel_1865832/2253678544.py:65: RuntimeWarning: overflow encountered in exp\n",
      "  prob_accept = min(1,np.exp(-den+num))\n"
     ]
    }
   ],
   "source": [
    "data = np.loadtxt(\"file1.txt\")\n",
    "covar = np.loadtxt(\"file_cov.txt\")\n",
    "\n",
    "z_vals = data[:,0]\n",
    "mu_vals_obs = data[:,1]\n",
    "covar = covar.reshape(31,31)\n",
    "covar_inv = np.linalg.inv(covar)\n",
    "\n",
    "n_steps = 1000\n",
    "c = 3*(10**5)\n",
    "sigma = 0.01\n",
    "\n",
    "omega_vals_1,h_vals_1,ar_1 = mcmh(0.95,0.05,sigma,n_steps,\n",
    "                                  c,z_vals,mu_vals_obs,covar_inv,likelihood)\n",
    "omega_vals_2,h_vals_2,ar_2 = mcmh(0.05,0.05,sigma,n_steps,\n",
    "                                  c,z_vals,mu_vals_obs,covar_inv,likelihood)\n",
    "omega_vals_3,h_vals_3,ar_3 = mcmh(0.05,0.95,sigma,n_steps,\n",
    "                                  c,z_vals,mu_vals_obs,covar_inv,likelihood)\n",
    "omega_vals_4,h_vals_4,ar_4 = mcmh(0.95,0.95,sigma,n_steps,\n",
    "                                  c,z_vals,mu_vals_obs,covar_inv,likelihood)"
   ]
  },
  {
   "cell_type": "markdown",
   "id": "2d2c3f0a",
   "metadata": {
    "heading_collapsed": true,
    "hidden": true
   },
   "source": [
    "### $\\text{Plotting and animating the data}$"
   ]
  },
  {
   "cell_type": "code",
   "execution_count": 61,
   "id": "c8390c4c",
   "metadata": {
    "hidden": true
   },
   "outputs": [
    {
     "data": {
      "text/plain": [
       "<AxesSubplot:title={'center':'Parameter Estimation of $h$ and $\\\\Omega_m$'}, xlabel='$h$ Values $\\\\longrightarrow$', ylabel='$\\\\Omega_m$ Values $\\\\longrightarrow$'>"
      ]
     },
     "execution_count": 61,
     "metadata": {},
     "output_type": "execute_result"
    }
   ],
   "source": [
    "x1_data = omega_vals_1\n",
    "y1_data = h_vals_1\n",
    "\n",
    "x2_data = omega_vals_2\n",
    "y2_data = h_vals_2\n",
    "\n",
    "x3_data = omega_vals_3\n",
    "y3_data = h_vals_3\n",
    "\n",
    "x4_data = omega_vals_4\n",
    "y4_data = h_vals_4\n",
    "\n",
    "fig, ax = plt.subplots(figsize=(14,8),dpi=120)\n",
    "\n",
    "ax.plot(x1_data[0], y1_data[0], 'bo',alpha=.5, ms=4,\n",
    "        label=\"RW 1 - ($h_0=0.95,\\Omega_{m0}=0.05$) \")\n",
    "\n",
    "ax.plot(x2_data[0], y2_data[0], 'ro',alpha=.5, ms=4,\n",
    "        label=\"RW 2 - ($h_0=0.05,\\Omega_{m0}=0.05$) \")\n",
    "\n",
    "ax.plot(x3_data[0], y3_data[0], 'go',alpha=.5, ms=4,\n",
    "        label=\"RW 3 - ($h_0=0.05,\\Omega_{m0}=0.95$) \")\n",
    "\n",
    "ax.plot(x4_data[0], y4_data[0],'o',color='orange',alpha=.5, ms=4,\n",
    "        label=\"RW 4 - ($h_0=0.95,\\Omega_{m0}=0.95$) \")\n",
    "\n",
    "ax.set_xlabel(\"$h$ Values $\\longrightarrow$\",size=13,alpha=0.85)\n",
    "ax.set_ylabel(\"$\\Omega_m$ Values $\\longrightarrow$\",size=13,alpha=0.85)\n",
    "\n",
    "ax.set_title(\"Parameter Estimation of $h$ and $\\Omega_m$\",size=18,alpha=0.9)\n",
    "\n",
    "ax.set_xlim(0,1) \n",
    "ax.set_ylim(0,1) \n",
    "\n",
    "plt.minorticks_on()\n",
    "plt.legend(fontsize=10,facecolor='lightcyan')\n",
    "plt.pause(2)\n",
    "\n",
    "for i in range(1, len(x1_data)):\n",
    "    ax.plot(x1_data[i], y1_data[i], 'bo',alpha=.5, ms=3,\n",
    "            label=\"RW 1 - ($h_0=0.95,\\Omega_{m0}=0.05$) \")\n",
    "\n",
    "    ax.plot(x2_data[i], y2_data[i], 'ro',alpha=.5, ms=3,\n",
    "            label=\"RW 2 - ($h_0=0.05,\\Omega_{m0}=0.05$) \")\n",
    "\n",
    "    ax.plot(x3_data[i], y3_data[i], 'go',alpha=.5, ms=3,\n",
    "            label=\"RW 3 - ($h_0=0.05,\\Omega_{m0}=0.95$) \")\n",
    "\n",
    "    ax.plot(x4_data[i], y4_data[i],'o',color='orange',alpha=.5, ms=3,\n",
    "            label=\"RW 4 - ($h_0=0.95,\\Omega_{m0}=0.95$) \")\n",
    "    \n",
    "    ax.plot([x1_data[i-1], x1_data[i]], [y1_data[i-1], y1_data[i]],\n",
    "            'b-',lw=1.5,alpha=.5)\n",
    "    \n",
    "    ax.plot([x2_data[i-1], x2_data[i]], [y2_data[i-1], y2_data[i]],\n",
    "            'r-',lw=1.5,alpha=.5)\n",
    "    \n",
    "    ax.plot([x3_data[i-1], x3_data[i]], [y3_data[i-1], y3_data[i]],\n",
    "            'g-',lw=1.5,alpha=.5)\n",
    "    \n",
    "    ax.plot([x4_data[i-1], x4_data[i]], [y4_data[i-1], y4_data[i]],\n",
    "            '-',color='orange',lw=1.5,alpha=.5)\n",
    "    \n",
    "    if i == int(0.5*len(x1_data)):\n",
    "        plt.axvline(x=0.3,color='k',ls='--',lw=1.5,alpha=0.5)\n",
    "        plt.axhline(y=0.7,color='k',ls='--',lw=1.5,alpha=0.5)\n",
    "        \n",
    "    #plt.pause(0.00001) #Uncomment this line to see animated plots\n",
    "\n",
    "sns.kdeplot(x1_data, y1_data, fill=True, \n",
    "            common_norm=False, palette=\"crest\",alpha=0.35)\n",
    "\n",
    "sns.kdeplot(x2_data, y2_data, fill=True, \n",
    "            common_norm=False, palette=\"crest\",alpha=0.35)\n",
    "\n",
    "sns.kdeplot(x3_data, y3_data, fill=True, \n",
    "            common_norm=False, palette=\"crest\",alpha=0.35)\n",
    "\n",
    "sns.kdeplot(x4_data, y4_data, fill=True, \n",
    "            common_norm=False, palette=\"crest\",alpha=0.35)\n"
   ]
  },
  {
   "cell_type": "markdown",
   "id": "6bb3ad6e",
   "metadata": {
    "heading_collapsed": true,
    "hidden": true
   },
   "source": [
    "### $\\text{Plotting Histograms of } h \\text{ and } \\Omega_m$"
   ]
  },
  {
   "cell_type": "code",
   "execution_count": 282,
   "id": "4564ade0",
   "metadata": {
    "hidden": true
   },
   "outputs": [
    {
     "data": {
      "text/plain": [
       "<matplotlib.legend.Legend at 0x7f47ac627a00>"
      ]
     },
     "execution_count": 282,
     "metadata": {},
     "output_type": "execute_result"
    }
   ],
   "source": [
    "def gaussian(x,mean,sigma):\n",
    "    value = (1/np.sqrt(2*np.pi*(sigma**2)))*np.exp(-((x-mean)**2)/(2*(sigma**2)))\n",
    "    return value\n",
    "\n",
    "burn_in = int(0.30*n_steps)\n",
    "\n",
    "# H values\n",
    "\n",
    "h_vals_1_burn = h_vals_1[burn_in:]\n",
    "h_vals_2_burn = h_vals_2[burn_in:]\n",
    "h_vals_3_burn = h_vals_3[burn_in:]\n",
    "h_vals_4_burn = h_vals_4[burn_in:]\n",
    "\n",
    "mean_1_h = np.mean(h_vals_1_burn)\n",
    "mean_2_h = np.mean(h_vals_2_burn)\n",
    "mean_3_h = np.mean(h_vals_3_burn)\n",
    "mean_4_h = np.mean(h_vals_4_burn)\n",
    "\n",
    "net_mean_h = np.mean([mean_1_h,mean_2_h,mean_3_h,mean_4_h])\n",
    "\n",
    "std_1_h = np.std(h_vals_1_burn)\n",
    "std_2_h = np.std(h_vals_2_burn)\n",
    "std_3_h = np.std(h_vals_3_burn)\n",
    "std_4_h = np.std(h_vals_4_burn)\n",
    "\n",
    "#Histogram of h\n",
    "\n",
    "plt.figure(figsize=(14,8),dpi=120)\n",
    "\n",
    "plt.hist(h_vals_1_burn,bins=50,color='blue',alpha=0.7,label='Random Walker 1')\n",
    "plt.hist(h_vals_2_burn,bins=50,color='red',alpha=0.6,label='Random Walker 2')\n",
    "plt.hist(h_vals_3_burn,bins=50,color='green',alpha=0.5,label='Random Walker 3')\n",
    "plt.hist(h_vals_4_burn,bins=50,color='orange',alpha=0.4,label='Random Walker 4')\n",
    "\n",
    "plt.axvline(x=net_mean_h,color='k',ls='--',alpha=0.5)\n",
    "\n",
    "plt.xlabel(\"$h$ Values $\\longrightarrow$\",size=13,alpha=0.85)\n",
    "plt.ylabel(\"Frequency $\\longrightarrow$\",size=13,alpha=0.85)\n",
    "plt.title(\"Distribution of $h$ values\",size=18,alpha=0.9)\n",
    "\n",
    "plt.xticks(size=13,alpha=0.5)\n",
    "plt.yticks(size=13,alpha=0.5)\n",
    "plt.minorticks_on()\n",
    "\n",
    "plt.legend(fontsize=12,facecolor='lightcyan')\n",
    "#plt.savefig(\"histo_h.pdf\",format='pdf')\n",
    "\n",
    "#OMEGA_M\n",
    "\n",
    "omega_vals_1_burn = omega_vals_1[burn_in:]\n",
    "omega_vals_2_burn = omega_vals_2[burn_in:]\n",
    "omega_vals_3_burn = omega_vals_3[burn_in:]\n",
    "omega_vals_4_burn = omega_vals_4[burn_in:]\n",
    "\n",
    "mean_1_omega = np.mean(omega_vals_1_burn)\n",
    "mean_2_omega = np.mean(omega_vals_2_burn)\n",
    "mean_3_omega = np.mean(omega_vals_3_burn)\n",
    "mean_4_omega = np.mean(omega_vals_4_burn)\n",
    "\n",
    "net_mean_omega = np.mean([mean_1_omega,mean_2_omega,mean_3_omega,mean_4_omega])\n",
    "\n",
    "std_1_omega = np.std(omega_vals_1_burn)\n",
    "std_2_omega = np.std(omega_vals_2_burn)\n",
    "std_3_omega = np.std(omega_vals_3_burn)\n",
    "std_4_omega = np.std(omega_vals_4_burn)\n",
    "\n",
    "#Histogram of Omega\n",
    "plt.figure(figsize=(14,8),dpi=120)\n",
    "\n",
    "plt.hist(omega_vals_1_burn,bins=50,color='blue',alpha=0.7,label='Random Walker 1')\n",
    "plt.hist(omega_vals_2_burn,bins=50,color='red',alpha=0.6,label='Random Walker 2')\n",
    "plt.hist(omega_vals_3_burn,bins=50,color='green',alpha=0.5,label='Random Walker 3')\n",
    "plt.hist(omega_vals_4_burn,bins=50,color='orange',alpha=0.4,label='Random Walker 4')\n",
    "\n",
    "plt.axvline(x=net_mean_omega,color='k',ls='--',alpha=0.5)\n",
    "\n",
    "plt.xlabel(\"$\\Omega_m$ Values $\\longrightarrow$\",size=13,alpha=0.85)\n",
    "plt.ylabel(\"Frequency $\\longrightarrow$\",size=13,alpha=0.85)\n",
    "plt.title(\"Distribution of $\\Omega_m$ values\",size=18,alpha=0.9)\n",
    "\n",
    "plt.xticks(size=13,alpha=0.5)\n",
    "plt.yticks(size=13,alpha=0.5)\n",
    "plt.minorticks_on()\n",
    "\n",
    "plt.legend(fontsize=12,facecolor='lightcyan')\n",
    "#plt.savefig(\"histo_omega.pdf\",format='pdf')"
   ]
  },
  {
   "cell_type": "markdown",
   "id": "96b4101b",
   "metadata": {
    "heading_collapsed": true,
    "hidden": true
   },
   "source": [
    "### $\\text{Evaluating statistics}$"
   ]
  },
  {
   "cell_type": "code",
   "execution_count": 246,
   "id": "859a3917",
   "metadata": {
    "hidden": true,
    "scrolled": true
   },
   "outputs": [
    {
     "name": "stdout",
     "output_type": "stream",
     "text": [
      "The acceptance ratio for Random Walker 2 is: 0.345\n",
      "\n",
      "\n",
      "The mean h-value is: 0.705\n",
      "The mean omega-value is: 0.281\n",
      "\n",
      "\n",
      "The variance of h is: 0.000052\n",
      "The variance of omega is: 0.000554\n",
      "\n",
      "\n",
      "The Covariance matrix is given by:\n",
      "  [[ 5.23691621e-05 -6.47581889e-05]\n",
      " [-6.47581889e-05  5.55136563e-04]]\n"
     ]
    }
   ],
   "source": [
    "final_h_vals = h_vals_2_burn\n",
    "final_omega_vals = omega_vals_2_burn\n",
    "\n",
    "print(\"The acceptance ratio for Random Walker 2 is: %.3f\" %ar_2)\n",
    "print(\"\\n\")\n",
    "# Evaluating Mean\n",
    "final_h_mean = np.mean(final_h_vals)\n",
    "final_omega_mean = np.mean(final_omega_vals)\n",
    "\n",
    "# Evaluating Standard Deviation and Variance\n",
    "final_h_std = np.std(final_h_vals)\n",
    "final_omega_std = np.std(final_omega_vals)\n",
    "\n",
    "final_h_var = final_h_std**2\n",
    "final_omega_var = final_omega_std**2\n",
    "\n",
    "#Evaluating covariance\n",
    "covariance = np.cov(final_h_vals,final_omega_vals)\n",
    "\n",
    "print(\"The mean h-value is: %.3f\" %final_h_mean)\n",
    "print(\"The mean omega-value is: %.3f\" %final_omega_mean)\n",
    "print(\"\\n\")\n",
    "print(\"The variance of h is: %.6f\" %final_h_var)\n",
    "print(\"The variance of omega is: %.6f\" %final_omega_var)\n",
    "print(\"\\n\")\n",
    "print(\"The Covariance matrix is given by:\\n \", covariance)"
   ]
  },
  {
   "cell_type": "code",
   "execution_count": 253,
   "id": "6a797e21",
   "metadata": {
    "hidden": true
   },
   "outputs": [],
   "source": [
    "mu_vals_obs_final = dist_mod(c,final_h_mean,z_vals,final_omega_mean)\n",
    "\n",
    "fig,ax = plt.subplots(figsize=(14,8),dpi=120)\n",
    "ax.set_facecolor('whitesmoke')\n",
    "\n",
    "ax.plot(z_vals_obs,mu_vals_obs,'ko',ms=5,alpha=0.8)\n",
    "\n",
    "ax.plot(z_vals_obs,mu_vals_obs_final,ls = '--',color='red',\n",
    "         label=\"h = %.3f and $\\Omega_m$ = %.3f\" %(final_h_mean,final_omega_mean))\n",
    "\n",
    "ax.set_xlabel(\"Redshift $- z$\",size=13,alpha=0.85)\n",
    "ax.set_ylabel(\"Distance Modulus $- \\mu$\",size=13,alpha=0.85)\n",
    "ax.set_title(\"Observed Distance Modulus of Supernova Ia\",size=18,alpha=0.9)\n",
    "\n",
    "plt.xticks(size=12,alpha=0.7)\n",
    "plt.yticks(size=12,alpha=0.7)\n",
    "\n",
    "plt.minorticks_on()\n",
    "\n",
    "plt.legend(facecolor='lightcyan',loc='lower right',fontsize=15)\n",
    "plt.grid(alpha=0.4,color='grey', linestyle='--', linewidth=0.5)\n",
    "\n",
    "plt.savefig(\"final_plot.pdf\",format='pdf')"
   ]
  },
  {
   "cell_type": "markdown",
   "id": "8da63243",
   "metadata": {
    "heading_collapsed": true,
    "hidden": true
   },
   "source": [
    "### $\\text{Variation of Acceptance Probability with size of proposal distribution} $ $\\sigma$"
   ]
  },
  {
   "cell_type": "code",
   "execution_count": 254,
   "id": "0db84b7c",
   "metadata": {
    "hidden": true
   },
   "outputs": [
    {
     "name": "stdout",
     "output_type": "stream",
     "text": [
      "0\n",
      "1\n",
      "2\n",
      "3\n",
      "4\n",
      "5\n",
      "6\n",
      "7\n",
      "8\n",
      "9\n",
      "10\n",
      "11\n",
      "12\n",
      "13\n",
      "14\n",
      "15\n",
      "16\n",
      "17\n",
      "18\n",
      "19\n",
      "20\n",
      "21\n",
      "22\n",
      "23\n",
      "24\n",
      "25\n",
      "26\n",
      "27\n",
      "28\n",
      "29\n",
      "30\n",
      "31\n",
      "32\n",
      "33\n",
      "34\n",
      "35\n",
      "36\n",
      "37\n",
      "38\n",
      "39\n",
      "40\n",
      "41\n",
      "42\n",
      "43\n",
      "44\n",
      "45\n",
      "46\n",
      "47\n",
      "48\n",
      "49\n",
      "50\n",
      "51\n",
      "52\n",
      "53\n",
      "54\n",
      "55\n",
      "56\n",
      "57\n",
      "58\n",
      "59\n",
      "60\n",
      "61\n",
      "62\n",
      "63\n",
      "64\n",
      "65\n",
      "66\n",
      "67\n",
      "68\n",
      "69\n",
      "70\n",
      "71\n",
      "72\n",
      "73\n",
      "74\n",
      "75\n",
      "76\n",
      "77\n",
      "78\n",
      "79\n",
      "80\n",
      "81\n",
      "82\n"
     ]
    }
   ],
   "source": [
    "c = 3*(10**5)\n",
    "n_steps = 10000\n",
    "burn_in = int(0.15*n_steps)\n",
    "\n",
    "sigma_2 = np.linspace(0.0000001,0.0000009,9,endpoint=True)\n",
    "sigma_1 = np.linspace(0.000001,0.000009,9,endpoint=True)\n",
    "sigma_ = np.linspace(0.00001,0.00009,9,endpoint=True)\n",
    "sigma0 = np.linspace(0.0001,0.0009,9,endpoint=True)\n",
    "sigma1 = np.linspace(0.001,0.009,9,endpoint=True)\n",
    "sigma2 = np.linspace(0.01,0.09,9,endpoint=True)\n",
    "sigma3 = np.linspace(0.1,0.9,9,endpoint=True)\n",
    "sigma4 = np.linspace(1,10,10,endpoint=True)\n",
    "sigma5 = np.linspace(10,100,10,endpoint=True)\n",
    "\n",
    "sigma = np.concatenate((sigma_2,sigma_1,sigma_,sigma0,sigma1,sigma2,sigma3,sigma4,sigma5))\n",
    "h_init = 0.15\n",
    "omega_init = 0.75\n",
    "\n",
    "acceptance_ratio = np.zeros(len(sigma))\n",
    "mean_h_array = np.zeros(len(sigma))\n",
    "mean_omega_array = np.zeros(len(sigma))\n",
    "\n",
    "for i in range(len(sigma)):\n",
    "    \n",
    "    d1,d2,accept_temp = mcmh(h_init,omega_init,sigma[i],n_steps,\n",
    "                                  c,z_vals,mu_vals_obs,covar_inv,likelihood)\n",
    "    \n",
    "    acceptance_ratio[i] = accept_temp\n",
    "    mean_omega_array[i] = np.mean(d1[burn_in:])\n",
    "    mean_h_array[i] = np.mean(d2[burn_in:])"
   ]
  },
  {
   "cell_type": "code",
   "execution_count": 280,
   "id": "4206f617",
   "metadata": {
    "hidden": true
   },
   "outputs": [],
   "source": [
    "fig, ax = plt.subplots(figsize=(14,8),dpi=120)\n",
    "\n",
    "ax.set_facecolor(\"whitesmoke\")\n",
    "ax.plot(sigma,acceptance_ratio,'bo-',alpha=0.8,ms=7,lw=1.5,markerfacecolor='red')\n",
    "#plt.axvline(x=sigma[4],color='r',alpha=0.5,linestyle='--')\n",
    "#plt.axhline(y=acceptance_ratio[4],color='r',alpha=0.5,linestyle='--')\n",
    "\n",
    "ax.set_xscale(\"log\")\n",
    "plt.minorticks_on()\n",
    "plt.xticks(size=13)\n",
    "plt.yticks(size=13)\n",
    "\n",
    "ax.set_xlabel(\"$\\sigma \\longrightarrow$\",size=15)\n",
    "ax.set_ylabel(\"Acceptance Probability $A$ $\\longrightarrow$\",size=15)\n",
    "\n",
    "ax.set_title(\"Variation of Acceptance Probability $A$ with $\\sigma$\",size=18)\n",
    "plt.grid(alpha=0.4,color='grey', linestyle='--', linewidth=0.5)\n",
    "\n",
    "plt.savefig(\"accpt_prob_sigma.pdf\",format='pdf')"
   ]
  },
  {
   "cell_type": "code",
   "execution_count": 281,
   "id": "558de365",
   "metadata": {
    "hidden": true
   },
   "outputs": [],
   "source": [
    "info = \"Region of interest\"\n",
    "fig, ax = plt.subplots(figsize=(14,8),dpi=120)\n",
    "ax.set_facecolor(\"whitesmoke\")\n",
    "\n",
    "ax.plot(sigma,mean_h_array,'bo-',alpha=0.8,lw=1.8,label='$h$',markerfacecolor='red')\n",
    "ax.plot(sigma,mean_omega_array,'go-',alpha=0.8,lw=1.8,label='$\\Omega_m$',markerfacecolor='black')\n",
    "plt.axvline(x=1.e-3,color='k',alpha=0.5,linestyle='--')\n",
    "plt.axvline(x=1.e0,color='k',alpha=0.5,linestyle='--')\n",
    "plt.text(5.e-3, 0.8, info, fontsize=12, bbox=dict(facecolor='salmon', alpha=0.5,pad=8))\n",
    "\n",
    "ax.set_xscale(\"log\")\n",
    "plt.minorticks_on()\n",
    "plt.xticks(size=13)\n",
    "plt.yticks(size=13)\n",
    "\n",
    "ax.set_xlabel(\"$\\sigma \\longrightarrow$\",size=15)\n",
    "ax.set_ylabel(\"Mean $h $ and $ \\Omega_m$ $\\longrightarrow$\",size=15)\n",
    "ax.set_title(\"Variation of $h $ and $ \\Omega_m$ with $\\sigma$\",size=18)\n",
    "\n",
    "plt.grid(alpha=0.4,color='grey', linestyle='--', linewidth=0.5)\n",
    "plt.legend(fontsize=12,loc='upper right')\n",
    "\n",
    "plt.savefig(\"mean_omega_sigma.pdf\")"
   ]
  },
  {
   "cell_type": "markdown",
   "id": "73546690",
   "metadata": {
    "heading_collapsed": true,
    "hidden": true
   },
   "source": [
    "### $\\text{Small Distribution and Large Distribution}$"
   ]
  },
  {
   "cell_type": "code",
   "execution_count": 226,
   "id": "208d4aea",
   "metadata": {
    "hidden": true
   },
   "outputs": [],
   "source": [
    "n_steps = 1000\n",
    "c = 3*(10**5)\n",
    "sigma_small = 1.e-4\n",
    "sigma_large = 100\n",
    "\n",
    "h_init = 0.05\n",
    "omega_init = 0.95\n",
    "\n",
    "omega_vals_small,h_vals_small,ar_small = mcmh(h_init,omega_init,sigma_small,n_steps,\n",
    "                                  c,z_vals,mu_vals_obs,covar_inv,likelihood)\n",
    "omega_vals_large,h_vals_large,ar_large = mcmh(h_init,omega_init,sigma_large,n_steps,\n",
    "                                  c,z_vals,mu_vals_obs,covar_inv,likelihood)"
   ]
  },
  {
   "cell_type": "code",
   "execution_count": 239,
   "id": "d2e17204",
   "metadata": {
    "hidden": true
   },
   "outputs": [],
   "source": [
    "fig, ax = plt.subplots(figsize=(14,8),dpi=120)\n",
    "\n",
    "ax.set_facecolor('whitesmoke')\n",
    "ax.scatter(omega_vals_small,h_vals_small,s=5,alpha=0.5,color='blue')\n",
    "ax.set_xlabel(\"$\\Omega_m$ Values $\\longrightarrow$\",size=15)\n",
    "ax.set_ylabel(\"$h$ Values $\\longrightarrow$\",size=15)\n",
    "ax.set_title(\"Random Walker for small distribution - $\\sigma = 10^{-4}$\",size=15)\n",
    "plt.minorticks_on()\n",
    "plt.xticks(size=13)\n",
    "plt.yticks(size=13)\n",
    "plt.grid(alpha=0.4,color='k', linestyle='--', linewidth=0.5)\n",
    "\n",
    "plt.savefig(\"small_dist.pdf\")\n",
    "\n",
    "fig, ax = plt.subplots(figsize=(14,8),dpi=120)\n",
    "\n",
    "ax.set_facecolor('whitesmoke')\n",
    "ax.scatter(omega_vals_large,h_vals_large,s=20,alpha=0.5,color='red')\n",
    "ax.set_xlabel(\"$\\Omega_m$ Values $\\longrightarrow$\",size=15)\n",
    "ax.set_ylabel(\"$h$ Values $\\longrightarrow$\",size=15)\n",
    "ax.set_title(\"Random Walker for small distribution - $\\sigma = 100$\",size=15)\n",
    "plt.minorticks_on()\n",
    "plt.xticks(size=13)\n",
    "plt.yticks(size=13)\n",
    "plt.grid(alpha=0.4,color='k', linestyle='--', linewidth=0.5)\n",
    "\n",
    "plt.savefig(\"large_dist.pdf\")"
   ]
  }
 ],
 "metadata": {
  "kernelspec": {
   "display_name": "Python 3 (ipykernel)",
   "language": "python",
   "name": "python3"
  },
  "language_info": {
   "codemirror_mode": {
    "name": "ipython",
    "version": 3
   },
   "file_extension": ".py",
   "mimetype": "text/x-python",
   "name": "python",
   "nbconvert_exporter": "python",
   "pygments_lexer": "ipython3",
   "version": "3.9.13"
  }
 },
 "nbformat": 4,
 "nbformat_minor": 5
}
